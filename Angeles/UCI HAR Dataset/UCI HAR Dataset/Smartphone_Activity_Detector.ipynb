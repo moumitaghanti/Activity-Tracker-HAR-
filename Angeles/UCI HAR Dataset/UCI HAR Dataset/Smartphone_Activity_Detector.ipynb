{
 "cells": [
  {
   "cell_type": "code",
   "execution_count": 1,
   "metadata": {},
   "outputs": [],
   "source": [
    "# Set the seed value for the notebook so the results are reproducible\n",
    "from numpy.random import seed\n",
    "seed(1)"
   ]
  },
  {
   "cell_type": "markdown",
   "metadata": {},
   "source": [
    "# Deep Learning Smartphone Activity Detector\n",
    "\n",
    "http://archive.ics.uci.edu/ml/datasets/Smartphone-Based+Recognition+of+Human+Activities+and+Postural+Transitions"
   ]
  },
  {
   "cell_type": "markdown",
   "metadata": {},
   "source": [
    "# Objective\n",
    "\n",
    "Predict human activity using smartphone sensor data"
   ]
  },
  {
   "cell_type": "markdown",
   "metadata": {},
   "source": [
    "# Data Pre-Processing\n",
    "Note: This dataset has already been scaled"
   ]
  },
  {
   "cell_type": "code",
   "execution_count": 2,
   "metadata": {},
   "outputs": [],
   "source": [
    "import os\n",
    "import tensorflow as tf\n",
    "from tensorflow.keras.models import Sequential\n",
    "from tensorflow.keras.utils import to_categorical\n",
    "from tensorflow.keras.layers import Dense"
   ]
  },
  {
   "cell_type": "code",
   "execution_count": 3,
   "metadata": {},
   "outputs": [],
   "source": [
    "import numpy as np\n",
    "import pandas as pd"
   ]
  },
  {
   "cell_type": "code",
   "execution_count": 17,
   "metadata": {},
   "outputs": [],
   "source": [
    "# Training Data Paths\n",
    "X_training_data = os.path.join(\"train\", \"X_train.csv\")\n",
    "y_training_data = os.path.join(\"train\", \"y_train.csv\")"
   ]
  },
  {
   "cell_type": "code",
   "execution_count": 18,
   "metadata": {},
   "outputs": [],
   "source": [
    "# Testing Data Paths\n",
    "X_testing_data = os.path.join(\"test\", \"X_test.csv\")\n",
    "y_testing_data = os.path.join(\"test\",\"y_test.csv\")"
   ]
  },
  {
   "cell_type": "code",
   "execution_count": 16,
   "metadata": {},
   "outputs": [
    {
     "ename": "ParserError",
     "evalue": "Error tokenizing data. C error: Expected 662 fields in line 27, saw 665\n",
     "output_type": "error",
     "traceback": [
      "\u001b[1;31m---------------------------------------------------------------------------\u001b[0m",
      "\u001b[1;31mParserError\u001b[0m                               Traceback (most recent call last)",
      "\u001b[1;32m<ipython-input-16-0fe5dccab51c>\u001b[0m in \u001b[0;36m<module>\u001b[1;34m\u001b[0m\n\u001b[0;32m      1\u001b[0m \u001b[1;31m# Read the training data into a dataframe\u001b[0m\u001b[1;33m\u001b[0m\u001b[1;33m\u001b[0m\u001b[1;33m\u001b[0m\u001b[0m\n\u001b[0;32m      2\u001b[0m X_train_df = pd.read_csv(\n\u001b[1;32m----> 3\u001b[1;33m     X_training_data, delimiter=\" \")\n\u001b[0m\u001b[0;32m      4\u001b[0m \u001b[0mX_train_df\u001b[0m\u001b[1;33m.\u001b[0m\u001b[0mhead\u001b[0m\u001b[1;33m(\u001b[0m\u001b[1;33m)\u001b[0m\u001b[1;33m\u001b[0m\u001b[1;33m\u001b[0m\u001b[0m\n",
      "\u001b[1;32m~\\Anaconda3\\lib\\site-packages\\pandas\\io\\parsers.py\u001b[0m in \u001b[0;36mparser_f\u001b[1;34m(filepath_or_buffer, sep, delimiter, header, names, index_col, usecols, squeeze, prefix, mangle_dupe_cols, dtype, engine, converters, true_values, false_values, skipinitialspace, skiprows, nrows, na_values, keep_default_na, na_filter, verbose, skip_blank_lines, parse_dates, infer_datetime_format, keep_date_col, date_parser, dayfirst, iterator, chunksize, compression, thousands, decimal, lineterminator, quotechar, quoting, escapechar, comment, encoding, dialect, tupleize_cols, error_bad_lines, warn_bad_lines, skipfooter, doublequote, delim_whitespace, low_memory, memory_map, float_precision)\u001b[0m\n\u001b[0;32m    676\u001b[0m                     skip_blank_lines=skip_blank_lines)\n\u001b[0;32m    677\u001b[0m \u001b[1;33m\u001b[0m\u001b[0m\n\u001b[1;32m--> 678\u001b[1;33m         \u001b[1;32mreturn\u001b[0m \u001b[0m_read\u001b[0m\u001b[1;33m(\u001b[0m\u001b[0mfilepath_or_buffer\u001b[0m\u001b[1;33m,\u001b[0m \u001b[0mkwds\u001b[0m\u001b[1;33m)\u001b[0m\u001b[1;33m\u001b[0m\u001b[1;33m\u001b[0m\u001b[0m\n\u001b[0m\u001b[0;32m    679\u001b[0m \u001b[1;33m\u001b[0m\u001b[0m\n\u001b[0;32m    680\u001b[0m     \u001b[0mparser_f\u001b[0m\u001b[1;33m.\u001b[0m\u001b[0m__name__\u001b[0m \u001b[1;33m=\u001b[0m \u001b[0mname\u001b[0m\u001b[1;33m\u001b[0m\u001b[1;33m\u001b[0m\u001b[0m\n",
      "\u001b[1;32m~\\Anaconda3\\lib\\site-packages\\pandas\\io\\parsers.py\u001b[0m in \u001b[0;36m_read\u001b[1;34m(filepath_or_buffer, kwds)\u001b[0m\n\u001b[0;32m    444\u001b[0m \u001b[1;33m\u001b[0m\u001b[0m\n\u001b[0;32m    445\u001b[0m     \u001b[1;32mtry\u001b[0m\u001b[1;33m:\u001b[0m\u001b[1;33m\u001b[0m\u001b[1;33m\u001b[0m\u001b[0m\n\u001b[1;32m--> 446\u001b[1;33m         \u001b[0mdata\u001b[0m \u001b[1;33m=\u001b[0m \u001b[0mparser\u001b[0m\u001b[1;33m.\u001b[0m\u001b[0mread\u001b[0m\u001b[1;33m(\u001b[0m\u001b[0mnrows\u001b[0m\u001b[1;33m)\u001b[0m\u001b[1;33m\u001b[0m\u001b[1;33m\u001b[0m\u001b[0m\n\u001b[0m\u001b[0;32m    447\u001b[0m     \u001b[1;32mfinally\u001b[0m\u001b[1;33m:\u001b[0m\u001b[1;33m\u001b[0m\u001b[1;33m\u001b[0m\u001b[0m\n\u001b[0;32m    448\u001b[0m         \u001b[0mparser\u001b[0m\u001b[1;33m.\u001b[0m\u001b[0mclose\u001b[0m\u001b[1;33m(\u001b[0m\u001b[1;33m)\u001b[0m\u001b[1;33m\u001b[0m\u001b[1;33m\u001b[0m\u001b[0m\n",
      "\u001b[1;32m~\\Anaconda3\\lib\\site-packages\\pandas\\io\\parsers.py\u001b[0m in \u001b[0;36mread\u001b[1;34m(self, nrows)\u001b[0m\n\u001b[0;32m   1034\u001b[0m                 \u001b[1;32mraise\u001b[0m \u001b[0mValueError\u001b[0m\u001b[1;33m(\u001b[0m\u001b[1;34m'skipfooter not supported for iteration'\u001b[0m\u001b[1;33m)\u001b[0m\u001b[1;33m\u001b[0m\u001b[1;33m\u001b[0m\u001b[0m\n\u001b[0;32m   1035\u001b[0m \u001b[1;33m\u001b[0m\u001b[0m\n\u001b[1;32m-> 1036\u001b[1;33m         \u001b[0mret\u001b[0m \u001b[1;33m=\u001b[0m \u001b[0mself\u001b[0m\u001b[1;33m.\u001b[0m\u001b[0m_engine\u001b[0m\u001b[1;33m.\u001b[0m\u001b[0mread\u001b[0m\u001b[1;33m(\u001b[0m\u001b[0mnrows\u001b[0m\u001b[1;33m)\u001b[0m\u001b[1;33m\u001b[0m\u001b[1;33m\u001b[0m\u001b[0m\n\u001b[0m\u001b[0;32m   1037\u001b[0m \u001b[1;33m\u001b[0m\u001b[0m\n\u001b[0;32m   1038\u001b[0m         \u001b[1;31m# May alter columns / col_dict\u001b[0m\u001b[1;33m\u001b[0m\u001b[1;33m\u001b[0m\u001b[1;33m\u001b[0m\u001b[0m\n",
      "\u001b[1;32m~\\Anaconda3\\lib\\site-packages\\pandas\\io\\parsers.py\u001b[0m in \u001b[0;36mread\u001b[1;34m(self, nrows)\u001b[0m\n\u001b[0;32m   1846\u001b[0m     \u001b[1;32mdef\u001b[0m \u001b[0mread\u001b[0m\u001b[1;33m(\u001b[0m\u001b[0mself\u001b[0m\u001b[1;33m,\u001b[0m \u001b[0mnrows\u001b[0m\u001b[1;33m=\u001b[0m\u001b[1;32mNone\u001b[0m\u001b[1;33m)\u001b[0m\u001b[1;33m:\u001b[0m\u001b[1;33m\u001b[0m\u001b[1;33m\u001b[0m\u001b[0m\n\u001b[0;32m   1847\u001b[0m         \u001b[1;32mtry\u001b[0m\u001b[1;33m:\u001b[0m\u001b[1;33m\u001b[0m\u001b[1;33m\u001b[0m\u001b[0m\n\u001b[1;32m-> 1848\u001b[1;33m             \u001b[0mdata\u001b[0m \u001b[1;33m=\u001b[0m \u001b[0mself\u001b[0m\u001b[1;33m.\u001b[0m\u001b[0m_reader\u001b[0m\u001b[1;33m.\u001b[0m\u001b[0mread\u001b[0m\u001b[1;33m(\u001b[0m\u001b[0mnrows\u001b[0m\u001b[1;33m)\u001b[0m\u001b[1;33m\u001b[0m\u001b[1;33m\u001b[0m\u001b[0m\n\u001b[0m\u001b[0;32m   1849\u001b[0m         \u001b[1;32mexcept\u001b[0m \u001b[0mStopIteration\u001b[0m\u001b[1;33m:\u001b[0m\u001b[1;33m\u001b[0m\u001b[1;33m\u001b[0m\u001b[0m\n\u001b[0;32m   1850\u001b[0m             \u001b[1;32mif\u001b[0m \u001b[0mself\u001b[0m\u001b[1;33m.\u001b[0m\u001b[0m_first_chunk\u001b[0m\u001b[1;33m:\u001b[0m\u001b[1;33m\u001b[0m\u001b[1;33m\u001b[0m\u001b[0m\n",
      "\u001b[1;32mpandas\\_libs\\parsers.pyx\u001b[0m in \u001b[0;36mpandas._libs.parsers.TextReader.read\u001b[1;34m()\u001b[0m\n",
      "\u001b[1;32mpandas\\_libs\\parsers.pyx\u001b[0m in \u001b[0;36mpandas._libs.parsers.TextReader._read_low_memory\u001b[1;34m()\u001b[0m\n",
      "\u001b[1;32mpandas\\_libs\\parsers.pyx\u001b[0m in \u001b[0;36mpandas._libs.parsers.TextReader._read_rows\u001b[1;34m()\u001b[0m\n",
      "\u001b[1;32mpandas\\_libs\\parsers.pyx\u001b[0m in \u001b[0;36mpandas._libs.parsers.TextReader._tokenize_rows\u001b[1;34m()\u001b[0m\n",
      "\u001b[1;32mpandas\\_libs\\parsers.pyx\u001b[0m in \u001b[0;36mpandas._libs.parsers.raise_parser_error\u001b[1;34m()\u001b[0m\n",
      "\u001b[1;31mParserError\u001b[0m: Error tokenizing data. C error: Expected 662 fields in line 27, saw 665\n"
     ]
    }
   ],
   "source": [
    "# Read the training data into a dataframe\n",
    "X_train_df = pd.read_csv(\n",
    "    X_training_data, delimiter=\" \")\n",
    "X_train_df.head()"
   ]
  },
  {
   "cell_type": "code",
   "execution_count": 7,
   "metadata": {
    "collapsed": true
   },
   "outputs": [],
   "source": [
    "# Convert the dataframe to a numpy array for Keras\n",
    "X_train = X_train_df.values"
   ]
  },
  {
   "cell_type": "code",
   "execution_count": 8,
   "metadata": {},
   "outputs": [
    {
     "data": {
      "text/plain": [
       "array([[0., 0., 0., 0., 0., 1., 0., 0., 0., 0., 0., 0., 0.],\n",
       "       [0., 0., 0., 0., 0., 1., 0., 0., 0., 0., 0., 0., 0.],\n",
       "       [0., 0., 0., 0., 0., 1., 0., 0., 0., 0., 0., 0., 0.],\n",
       "       [0., 0., 0., 0., 0., 1., 0., 0., 0., 0., 0., 0., 0.],\n",
       "       [0., 0., 0., 0., 0., 1., 0., 0., 0., 0., 0., 0., 0.],\n",
       "       [0., 0., 0., 0., 0., 1., 0., 0., 0., 0., 0., 0., 0.],\n",
       "       [0., 0., 0., 0., 0., 1., 0., 0., 0., 0., 0., 0., 0.],\n",
       "       [0., 0., 0., 0., 0., 1., 0., 0., 0., 0., 0., 0., 0.],\n",
       "       [0., 0., 0., 0., 0., 1., 0., 0., 0., 0., 0., 0., 0.],\n",
       "       [0., 0., 0., 0., 0., 1., 0., 0., 0., 0., 0., 0., 0.]],\n",
       "      dtype=float32)"
      ]
     },
     "execution_count": 8,
     "metadata": {},
     "output_type": "execute_result"
    }
   ],
   "source": [
    "# Read in the training labels as a dataframe\n",
    "y_train_df = pd.read_csv(y_training_data)\n",
    "\n",
    "# One-hot encode the integer labels\n",
    "# 1 WALKING\n",
    "# 2 WALKING_UPSTAIRS\n",
    "# 3 WALKING_DOWNSTAIRS\n",
    "# 4 SITTING\n",
    "# 5 STANDING\n",
    "# 6 LAYING\n",
    "# 7 STAND_TO_SIT\n",
    "# 8 SIT_TO_STAND\n",
    "# 9 SIT_TO_LIE\n",
    "# 10 LIE_TO_SIT\n",
    "# 11 STAND_TO_LIE\n",
    "# 12 LIE_TO_STAND\n",
    "\n",
    "y_train = to_categorical(y_train_df)\n",
    "y_train[:10]"
   ]
  },
  {
   "cell_type": "code",
   "execution_count": 9,
   "metadata": {},
   "outputs": [
    {
     "data": {
      "text/plain": [
       "(3161, 561)"
      ]
     },
     "execution_count": 9,
     "metadata": {},
     "output_type": "execute_result"
    }
   ],
   "source": [
    "# Read the testing data\n",
    "X_test_df = pd.read_csv(X_testing_data, delimiter=\" \", skiprows=1, header=None)\n",
    "X_test = X_test_df.values\n",
    "X_test.shape"
   ]
  },
  {
   "cell_type": "code",
   "execution_count": 10,
   "metadata": {},
   "outputs": [
    {
     "data": {
      "text/plain": [
       "(3161, 13)"
      ]
     },
     "execution_count": 10,
     "metadata": {},
     "output_type": "execute_result"
    }
   ],
   "source": [
    "# Read the testing labels\n",
    "y_test_df = pd.read_csv(y_testing_data)\n",
    "# One-hot encode the integer labels\n",
    "y_test = to_categorical(y_test_df)\n",
    "y_test.shape"
   ]
  },
  {
   "cell_type": "markdown",
   "metadata": {},
   "source": [
    "# Build a Deep Neural Network"
   ]
  },
  {
   "cell_type": "code",
   "execution_count": 11,
   "metadata": {
    "collapsed": true
   },
   "outputs": [],
   "source": [
    "# Create an empty sequential model\n",
    "model = Sequential()"
   ]
  },
  {
   "cell_type": "code",
   "execution_count": 12,
   "metadata": {
    "collapsed": true
   },
   "outputs": [],
   "source": [
    "# Add the first layer where the input dimensions are the 561 columns of the training data\n",
    "model.add(Dense(100, activation='relu', input_dim=X_train.shape[1]))"
   ]
  },
  {
   "cell_type": "code",
   "execution_count": 13,
   "metadata": {
    "collapsed": true
   },
   "outputs": [],
   "source": [
    "# Add a second hidden layer\n",
    "model.add(Dense(100, activation='relu'))"
   ]
  },
  {
   "cell_type": "code",
   "execution_count": 14,
   "metadata": {},
   "outputs": [
    {
     "data": {
      "text/plain": [
       "(7766, 13)"
      ]
     },
     "execution_count": 14,
     "metadata": {},
     "output_type": "execute_result"
    }
   ],
   "source": [
    "# The output layer has 13 columns that are one-hot encoded\n",
    "y_train.shape"
   ]
  },
  {
   "cell_type": "code",
   "execution_count": 15,
   "metadata": {
    "collapsed": true
   },
   "outputs": [],
   "source": [
    "# Add output layer\n",
    "model.add(Dense(y_train.shape[1], activation=\"softmax\"))"
   ]
  },
  {
   "cell_type": "code",
   "execution_count": 16,
   "metadata": {
    "collapsed": true
   },
   "outputs": [],
   "source": [
    "# Compile the model using categorical_crossentropy for the loss function, the adam optimizer,\n",
    "# and add accuracy to the training metrics\n",
    "model.compile(loss=\"categorical_crossentropy\",\n",
    "              optimizer=\"adam\", metrics=['accuracy'])"
   ]
  },
  {
   "cell_type": "code",
   "execution_count": 17,
   "metadata": {},
   "outputs": [
    {
     "name": "stdout",
     "output_type": "stream",
     "text": [
      "Epoch 1/100\n",
      " - 2s - loss: 0.5474 - acc: 0.7986\n",
      "Epoch 2/100\n",
      " - 1s - loss: 0.2004 - acc: 0.9221\n",
      "Epoch 3/100\n",
      " - 1s - loss: 0.1638 - acc: 0.9327\n",
      "Epoch 4/100\n",
      " - 1s - loss: 0.1139 - acc: 0.9563\n",
      "Epoch 5/100\n",
      " - 1s - loss: 0.1126 - acc: 0.9542\n",
      "Epoch 6/100\n",
      " - 1s - loss: 0.1044 - acc: 0.9585\n",
      "Epoch 7/100\n",
      " - 1s - loss: 0.0828 - acc: 0.9676\n",
      "Epoch 8/100\n",
      " - 1s - loss: 0.0836 - acc: 0.9666\n",
      "Epoch 9/100\n",
      " - 1s - loss: 0.0790 - acc: 0.9705\n",
      "Epoch 10/100\n",
      " - 1s - loss: 0.0941 - acc: 0.9634\n",
      "Epoch 11/100\n",
      " - 1s - loss: 0.0720 - acc: 0.9723\n",
      "Epoch 12/100\n",
      " - 1s - loss: 0.0904 - acc: 0.9645\n",
      "Epoch 13/100\n",
      " - 1s - loss: 0.0645 - acc: 0.9733\n",
      "Epoch 14/100\n",
      " - 1s - loss: 0.0658 - acc: 0.9741\n",
      "Epoch 15/100\n",
      " - 1s - loss: 0.0564 - acc: 0.9773\n",
      "Epoch 16/100\n",
      " - 1s - loss: 0.0637 - acc: 0.9755\n",
      "Epoch 17/100\n",
      " - 1s - loss: 0.0634 - acc: 0.9753\n",
      "Epoch 18/100\n",
      " - 1s - loss: 0.0507 - acc: 0.9811\n",
      "Epoch 19/100\n",
      " - 1s - loss: 0.0574 - acc: 0.9779\n",
      "Epoch 20/100\n",
      " - 1s - loss: 0.0536 - acc: 0.9793\n",
      "Epoch 21/100\n",
      " - 1s - loss: 0.0502 - acc: 0.9803\n",
      "Epoch 22/100\n",
      " - 1s - loss: 0.0680 - acc: 0.9744\n",
      "Epoch 23/100\n",
      " - 1s - loss: 0.0412 - acc: 0.9839\n",
      "Epoch 24/100\n",
      " - 1s - loss: 0.0453 - acc: 0.9813\n",
      "Epoch 25/100\n",
      " - 1s - loss: 0.0464 - acc: 0.9812\n",
      "Epoch 26/100\n",
      " - 1s - loss: 0.0406 - acc: 0.9842\n",
      "Epoch 27/100\n",
      " - 1s - loss: 0.0504 - acc: 0.9803\n",
      "Epoch 28/100\n",
      " - 1s - loss: 0.0439 - acc: 0.9829\n",
      "Epoch 29/100\n",
      " - 1s - loss: 0.0506 - acc: 0.9802\n",
      "Epoch 30/100\n",
      " - 1s - loss: 0.0389 - acc: 0.9847\n",
      "Epoch 31/100\n",
      " - 1s - loss: 0.0487 - acc: 0.9811\n",
      "Epoch 32/100\n",
      " - 1s - loss: 0.0289 - acc: 0.9888\n",
      "Epoch 33/100\n",
      " - 1s - loss: 0.0329 - acc: 0.9858\n",
      "Epoch 34/100\n",
      " - 1s - loss: 0.0417 - acc: 0.9833\n",
      "Epoch 35/100\n",
      " - 1s - loss: 0.0314 - acc: 0.9896\n",
      "Epoch 36/100\n",
      " - 1s - loss: 0.0401 - acc: 0.9849\n",
      "Epoch 37/100\n",
      " - 1s - loss: 0.0313 - acc: 0.9882\n",
      "Epoch 38/100\n",
      " - 1s - loss: 0.0251 - acc: 0.9900\n",
      "Epoch 39/100\n",
      " - 1s - loss: 0.0219 - acc: 0.9903\n",
      "Epoch 40/100\n",
      " - 1s - loss: 0.0279 - acc: 0.9896\n",
      "Epoch 41/100\n",
      " - 1s - loss: 0.0303 - acc: 0.9882\n",
      "Epoch 42/100\n",
      " - 1s - loss: 0.0318 - acc: 0.9879\n",
      "Epoch 43/100\n",
      " - 1s - loss: 0.0302 - acc: 0.9880\n",
      "Epoch 44/100\n",
      " - 1s - loss: 0.0544 - acc: 0.9812\n",
      "Epoch 45/100\n",
      " - 1s - loss: 0.0259 - acc: 0.9903\n",
      "Epoch 46/100\n",
      " - 1s - loss: 0.0225 - acc: 0.9910\n",
      "Epoch 47/100\n",
      " - 1s - loss: 0.0311 - acc: 0.9892\n",
      "Epoch 48/100\n",
      " - 1s - loss: 0.0246 - acc: 0.9903\n",
      "Epoch 49/100\n",
      " - 1s - loss: 0.0237 - acc: 0.9912\n",
      "Epoch 50/100\n",
      " - 1s - loss: 0.0214 - acc: 0.9916\n",
      "Epoch 51/100\n",
      " - 1s - loss: 0.0185 - acc: 0.9936\n",
      "Epoch 52/100\n",
      " - 1s - loss: 0.0177 - acc: 0.9938\n",
      "Epoch 53/100\n",
      " - 1s - loss: 0.0258 - acc: 0.9897\n",
      "Epoch 54/100\n",
      " - 1s - loss: 0.0415 - acc: 0.9862\n",
      "Epoch 55/100\n",
      " - 1s - loss: 0.0175 - acc: 0.9936\n",
      "Epoch 56/100\n",
      " - 1s - loss: 0.0149 - acc: 0.9943\n",
      "Epoch 57/100\n",
      " - 1s - loss: 0.0191 - acc: 0.9930\n",
      "Epoch 58/100\n",
      " - 1s - loss: 0.0280 - acc: 0.9905\n",
      "Epoch 59/100\n",
      " - 1s - loss: 0.0268 - acc: 0.9891\n",
      "Epoch 60/100\n",
      " - 1s - loss: 0.0328 - acc: 0.9878\n",
      "Epoch 61/100\n",
      " - 1s - loss: 0.0256 - acc: 0.9897\n",
      "Epoch 62/100\n",
      " - 1s - loss: 0.0134 - acc: 0.9954\n",
      "Epoch 63/100\n",
      " - 1s - loss: 0.0140 - acc: 0.9946\n",
      "Epoch 64/100\n",
      " - 1s - loss: 0.0177 - acc: 0.9938\n",
      "Epoch 65/100\n",
      " - 1s - loss: 0.0282 - acc: 0.9885\n",
      "Epoch 66/100\n",
      " - 1s - loss: 0.0102 - acc: 0.9961\n",
      "Epoch 67/100\n",
      " - 1s - loss: 0.0181 - acc: 0.9937\n",
      "Epoch 68/100\n",
      " - 1s - loss: 0.0177 - acc: 0.9941\n",
      "Epoch 69/100\n",
      " - 1s - loss: 0.0381 - acc: 0.9860\n",
      "Epoch 70/100\n",
      " - 1s - loss: 0.0149 - acc: 0.9951\n",
      "Epoch 71/100\n",
      " - 1s - loss: 0.0182 - acc: 0.9942\n",
      "Epoch 72/100\n",
      " - 1s - loss: 0.0110 - acc: 0.9958\n",
      "Epoch 73/100\n",
      " - 1s - loss: 0.0094 - acc: 0.9968\n",
      "Epoch 74/100\n",
      " - 1s - loss: 0.0134 - acc: 0.9950\n",
      "Epoch 75/100\n",
      " - 1s - loss: 0.0147 - acc: 0.9947\n",
      "Epoch 76/100\n",
      " - 1s - loss: 0.0216 - acc: 0.9916\n",
      "Epoch 77/100\n",
      " - 1s - loss: 0.0417 - acc: 0.9860\n",
      "Epoch 78/100\n",
      " - 1s - loss: 0.0158 - acc: 0.9956\n",
      "Epoch 79/100\n",
      " - 1s - loss: 0.0166 - acc: 0.9939\n",
      "Epoch 80/100\n",
      " - 1s - loss: 0.0115 - acc: 0.9958\n",
      "Epoch 81/100\n",
      " - 1s - loss: 0.0105 - acc: 0.9960\n",
      "Epoch 82/100\n",
      " - 1s - loss: 0.0072 - acc: 0.9972\n",
      "Epoch 83/100\n",
      " - 1s - loss: 0.0094 - acc: 0.9959\n",
      "Epoch 84/100\n",
      " - 1s - loss: 0.0223 - acc: 0.9934\n",
      "Epoch 85/100\n",
      " - 1s - loss: 0.0261 - acc: 0.9910\n",
      "Epoch 86/100\n",
      " - 1s - loss: 0.0166 - acc: 0.9941\n",
      "Epoch 87/100\n",
      " - 1s - loss: 0.0058 - acc: 0.9979\n",
      "Epoch 88/100\n",
      " - 1s - loss: 0.0068 - acc: 0.9976\n",
      "Epoch 89/100\n",
      " - 1s - loss: 0.0450 - acc: 0.9854\n",
      "Epoch 90/100\n",
      " - 1s - loss: 0.0195 - acc: 0.9928\n",
      "Epoch 91/100\n",
      " - 1s - loss: 0.0138 - acc: 0.9947\n",
      "Epoch 92/100\n",
      " - 1s - loss: 0.0073 - acc: 0.9977\n",
      "Epoch 93/100\n",
      " - 1s - loss: 0.0092 - acc: 0.9961\n",
      "Epoch 94/100\n",
      " - 1s - loss: 0.0100 - acc: 0.9964\n",
      "Epoch 95/100\n",
      " - 1s - loss: 0.0048 - acc: 0.9985\n",
      "Epoch 96/100\n",
      " - 1s - loss: 0.0256 - acc: 0.9915\n",
      "Epoch 97/100\n",
      " - 1s - loss: 0.0112 - acc: 0.9963\n",
      "Epoch 98/100\n",
      " - 1s - loss: 0.0110 - acc: 0.9956\n",
      "Epoch 99/100\n",
      " - 1s - loss: 0.0168 - acc: 0.9938\n",
      "Epoch 100/100\n",
      " - 1s - loss: 0.0052 - acc: 0.9985\n"
     ]
    },
    {
     "data": {
      "text/plain": [
       "<tensorflow.python.keras.callbacks.History at 0xb29f4fdd8>"
      ]
     },
     "execution_count": 17,
     "metadata": {},
     "output_type": "execute_result"
    }
   ],
   "source": [
    "# Use the training data to fit (train) the model\n",
    "model.fit(\n",
    "    X_train,\n",
    "    y_train,\n",
    "    epochs=100,\n",
    "    shuffle=True,\n",
    "    verbose=2\n",
    ")"
   ]
  },
  {
   "cell_type": "markdown",
   "metadata": {},
   "source": [
    "# Save the Trained Model"
   ]
  },
  {
   "cell_type": "code",
   "execution_count": 18,
   "metadata": {
    "collapsed": true
   },
   "outputs": [],
   "source": [
    "# Save the model\n",
    "model.save(\"smartphone_trained.h5\")"
   ]
  },
  {
   "cell_type": "markdown",
   "metadata": {},
   "source": [
    "# Evaluate the Model"
   ]
  },
  {
   "cell_type": "code",
   "execution_count": 19,
   "metadata": {
    "collapsed": true
   },
   "outputs": [],
   "source": [
    "# Load the model\n",
    "from tensorflow.keras.models import load_model\n",
    "model = load_model(\"smartphone_trained.h5\")"
   ]
  },
  {
   "cell_type": "code",
   "execution_count": 20,
   "metadata": {},
   "outputs": [
    {
     "name": "stdout",
     "output_type": "stream",
     "text": [
      "Loss: 0.37201917329237394, Accuracy: 0.9427396393546346\n"
     ]
    }
   ],
   "source": [
    "# Evaluate the model using the training data\n",
    "model_loss, model_accuracy = model.evaluate(X_test, y_test, verbose=2)\n",
    "print(f\"Loss: {model_loss}, Accuracy: {model_accuracy}\")"
   ]
  },
  {
   "cell_type": "code",
   "execution_count": 21,
   "metadata": {},
   "outputs": [
    {
     "data": {
      "text/plain": [
       "(1, 561)"
      ]
     },
     "execution_count": 21,
     "metadata": {},
     "output_type": "execute_result"
    }
   ],
   "source": [
    "# Grab just one data point to test with\n",
    "test = np.expand_dims(X_test[0], axis=0)\n",
    "test.shape"
   ]
  },
  {
   "cell_type": "code",
   "execution_count": 22,
   "metadata": {},
   "outputs": [
    {
     "name": "stdout",
     "output_type": "stream",
     "text": [
      "Predicted class: [5]\n"
     ]
    }
   ],
   "source": [
    "# Make a prediction. The result should be 5 - STANDING\n",
    "print(f\"Predicted class: {model.predict_classes(test)}\")"
   ]
  }
 ],
 "metadata": {
  "anaconda-cloud": {},
  "kernelspec": {
   "display_name": "Python 3",
   "language": "python",
   "name": "python3"
  },
  "language_info": {
   "codemirror_mode": {
    "name": "ipython",
    "version": 3
   },
   "file_extension": ".py",
   "mimetype": "text/x-python",
   "name": "python",
   "nbconvert_exporter": "python",
   "pygments_lexer": "ipython3",
   "version": "3.7.3"
  },
  "varInspector": {
   "cols": {
    "lenName": 16,
    "lenType": 16,
    "lenVar": 40
   },
   "kernels_config": {
    "python": {
     "delete_cmd_postfix": "",
     "delete_cmd_prefix": "del ",
     "library": "var_list.py",
     "varRefreshCmd": "print(var_dic_list())"
    },
    "r": {
     "delete_cmd_postfix": ") ",
     "delete_cmd_prefix": "rm(",
     "library": "var_list.r",
     "varRefreshCmd": "cat(var_dic_list()) "
    }
   },
   "types_to_exclude": [
    "module",
    "function",
    "builtin_function_or_method",
    "instance",
    "_Feature"
   ],
   "window_display": false
  }
 },
 "nbformat": 4,
 "nbformat_minor": 2
}
