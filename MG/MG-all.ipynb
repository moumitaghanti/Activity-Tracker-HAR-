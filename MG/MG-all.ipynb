{
 "cells": [
  {
   "cell_type": "code",
   "execution_count": 2,
   "metadata": {},
   "outputs": [],
   "source": [
    "import os\n",
    "import tensorflow as tf\n",
    "from tensorflow.keras.models import Sequential\n",
    "from tensorflow.keras.utils import to_categorical\n",
    "from tensorflow.keras.layers import Dense"
   ]
  },
  {
   "cell_type": "code",
   "execution_count": 3,
   "metadata": {},
   "outputs": [],
   "source": [
    "import numpy as np\n",
    "import pandas as pd\n",
    "%matplotlib inline\n",
    "import matplotlib.pyplot as plt\n",
    "from scipy import stats"
   ]
  },
  {
   "cell_type": "code",
   "execution_count": 6,
   "metadata": {},
   "outputs": [
    {
     "data": {
      "text/html": [
       "<div>\n",
       "<style scoped>\n",
       "    .dataframe tbody tr th:only-of-type {\n",
       "        vertical-align: middle;\n",
       "    }\n",
       "\n",
       "    .dataframe tbody tr th {\n",
       "        vertical-align: top;\n",
       "    }\n",
       "\n",
       "    .dataframe thead th {\n",
       "        text-align: right;\n",
       "    }\n",
       "</style>\n",
       "<table border=\"1\" class=\"dataframe\">\n",
       "  <thead>\n",
       "    <tr style=\"text-align: right;\">\n",
       "      <th></th>\n",
       "      <th>Date_time</th>\n",
       "      <th>X</th>\n",
       "      <th>Y</th>\n",
       "      <th>Z</th>\n",
       "      <th>ts</th>\n",
       "      <th>Profile</th>\n",
       "      <th>Activity</th>\n",
       "    </tr>\n",
       "  </thead>\n",
       "  <tbody>\n",
       "    <tr>\n",
       "      <th>0</th>\n",
       "      <td>2020-01-09 11:17:28.568</td>\n",
       "      <td>0.190048</td>\n",
       "      <td>-0.078262</td>\n",
       "      <td>-0.986176</td>\n",
       "      <td>1578568648</td>\n",
       "      <td>MG</td>\n",
       "      <td>stand</td>\n",
       "    </tr>\n",
       "    <tr>\n",
       "      <th>1</th>\n",
       "      <td>2020-01-09 11:17:28.671</td>\n",
       "      <td>0.140366</td>\n",
       "      <td>-0.068359</td>\n",
       "      <td>-0.998215</td>\n",
       "      <td>1578568648</td>\n",
       "      <td>MG</td>\n",
       "      <td>stand</td>\n",
       "    </tr>\n",
       "    <tr>\n",
       "      <th>2</th>\n",
       "      <td>2020-01-09 11:17:28.772</td>\n",
       "      <td>0.003952</td>\n",
       "      <td>-0.032806</td>\n",
       "      <td>-0.969467</td>\n",
       "      <td>1578568648</td>\n",
       "      <td>MG</td>\n",
       "      <td>stand</td>\n",
       "    </tr>\n",
       "    <tr>\n",
       "      <th>3</th>\n",
       "      <td>2020-01-09 11:17:28.872</td>\n",
       "      <td>-0.010345</td>\n",
       "      <td>0.084564</td>\n",
       "      <td>-0.947189</td>\n",
       "      <td>1578568648</td>\n",
       "      <td>MG</td>\n",
       "      <td>stand</td>\n",
       "    </tr>\n",
       "    <tr>\n",
       "      <th>4</th>\n",
       "      <td>2020-01-09 11:17:28.971</td>\n",
       "      <td>0.116348</td>\n",
       "      <td>-0.303986</td>\n",
       "      <td>-1.067520</td>\n",
       "      <td>1578568648</td>\n",
       "      <td>MG</td>\n",
       "      <td>stand</td>\n",
       "    </tr>\n",
       "  </tbody>\n",
       "</table>\n",
       "</div>"
      ],
      "text/plain": [
       "                 Date_time         X         Y         Z          ts Profile  \\\n",
       "0  2020-01-09 11:17:28.568  0.190048 -0.078262 -0.986176  1578568648      MG   \n",
       "1  2020-01-09 11:17:28.671  0.140366 -0.068359 -0.998215  1578568648      MG   \n",
       "2  2020-01-09 11:17:28.772  0.003952 -0.032806 -0.969467  1578568648      MG   \n",
       "3  2020-01-09 11:17:28.872 -0.010345  0.084564 -0.947189  1578568648      MG   \n",
       "4  2020-01-09 11:17:28.971  0.116348 -0.303986 -1.067520  1578568648      MG   \n",
       "\n",
       "  Activity  \n",
       "0    stand  \n",
       "1    stand  \n",
       "2    stand  \n",
       "3    stand  \n",
       "4    stand  "
      ]
     },
     "execution_count": 6,
     "metadata": {},
     "output_type": "execute_result"
    }
   ],
   "source": [
    "activity_data = pd.read_csv(\"Outputs/output_file_acc.csv\")\n",
    "activity_data.head()\n",
    "prof_act = activity_data.loc[activity_data['Profile'] =='MG']\n",
    "prof_act.head()\n"
   ]
  },
  {
   "cell_type": "code",
   "execution_count": 7,
   "metadata": {},
   "outputs": [],
   "source": [
    "prof_act.to_csv(\"Outputs/MG_all_activities.csv\")"
   ]
  }
 ],
 "metadata": {
  "kernelspec": {
   "display_name": "Python 3",
   "language": "python",
   "name": "python3"
  },
  "language_info": {
   "codemirror_mode": {
    "name": "ipython",
    "version": 3
   },
   "file_extension": ".py",
   "mimetype": "text/x-python",
   "name": "python",
   "nbconvert_exporter": "python",
   "pygments_lexer": "ipython3",
   "version": "3.7.3"
  }
 },
 "nbformat": 4,
 "nbformat_minor": 2
}
